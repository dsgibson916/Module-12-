{
 "cells": [
  {
   "cell_type": "code",
   "execution_count": 1,
   "id": "5b863860",
   "metadata": {},
   "outputs": [],
   "source": [
    "#Dependencies\n",
    "import pandas as pd\n",
    "import matplotlib.pyplot as plt\n",
    "import numpy as np\n",
    "from datetime import datetime\n",
    "import numpy as np"
   ]
  },
  {
   "cell_type": "code",
   "execution_count": 2,
   "id": "18588c7a",
   "metadata": {},
   "outputs": [],
   "source": [
    "url = 'https://data-class-mars-challenge.s3.amazonaws.com/Mars/index.html'"
   ]
  },
  {
   "cell_type": "code",
   "execution_count": 3,
   "id": "f33ac314",
   "metadata": {},
   "outputs": [
    {
     "data": {
      "text/plain": [
       "[        id terrestrial_date   sol   ls  month  min_temp  pressure\n",
       " 0        2       2012-08-16    10  155      6     -75.0     739.0\n",
       " 1       13       2012-08-17    11  156      6     -76.0     740.0\n",
       " 2       24       2012-08-18    12  156      6     -76.0     741.0\n",
       " 3       35       2012-08-19    13  157      6     -74.0     732.0\n",
       " 4       46       2012-08-20    14  157      6     -74.0     740.0\n",
       " ...    ...              ...   ...  ...    ...       ...       ...\n",
       " 1862  1889       2018-02-23  1973  133      5     -78.0     730.0\n",
       " 1863  1892       2018-02-24  1974  134      5     -77.0     729.0\n",
       " 1864  1894       2018-02-25  1975  134      5     -76.0     729.0\n",
       " 1865  1893       2018-02-26  1976  135      5     -77.0     728.0\n",
       " 1866  1895       2018-02-27  1977  135      5     -77.0     727.0\n",
       " \n",
       " [1867 rows x 7 columns]]"
      ]
     },
     "execution_count": 3,
     "metadata": {},
     "output_type": "execute_result"
    }
   ],
   "source": [
    " tables = pd.read_html(url)\n",
    "tables"
   ]
  },
  {
   "cell_type": "code",
   "execution_count": 4,
   "id": "fdfbf0c6",
   "metadata": {},
   "outputs": [
    {
     "data": {
      "text/plain": [
       "list"
      ]
     },
     "execution_count": 4,
     "metadata": {},
     "output_type": "execute_result"
    }
   ],
   "source": [
    " type(tables)"
   ]
  },
  {
   "cell_type": "code",
   "execution_count": 5,
   "id": "73cceb61",
   "metadata": {},
   "outputs": [
    {
     "data": {
      "text/html": [
       "<div>\n",
       "<style scoped>\n",
       "    .dataframe tbody tr th:only-of-type {\n",
       "        vertical-align: middle;\n",
       "    }\n",
       "\n",
       "    .dataframe tbody tr th {\n",
       "        vertical-align: top;\n",
       "    }\n",
       "\n",
       "    .dataframe thead th {\n",
       "        text-align: right;\n",
       "    }\n",
       "</style>\n",
       "<table border=\"1\" class=\"dataframe\">\n",
       "  <thead>\n",
       "    <tr style=\"text-align: right;\">\n",
       "      <th></th>\n",
       "      <th>id</th>\n",
       "      <th>terrestrial_date</th>\n",
       "      <th>sol</th>\n",
       "      <th>ls</th>\n",
       "      <th>month</th>\n",
       "      <th>min_temp</th>\n",
       "      <th>pressure</th>\n",
       "    </tr>\n",
       "  </thead>\n",
       "  <tbody>\n",
       "    <tr>\n",
       "      <th>0</th>\n",
       "      <td>2</td>\n",
       "      <td>2012-08-16</td>\n",
       "      <td>10</td>\n",
       "      <td>155</td>\n",
       "      <td>6</td>\n",
       "      <td>-75.0</td>\n",
       "      <td>739.0</td>\n",
       "    </tr>\n",
       "    <tr>\n",
       "      <th>1</th>\n",
       "      <td>13</td>\n",
       "      <td>2012-08-17</td>\n",
       "      <td>11</td>\n",
       "      <td>156</td>\n",
       "      <td>6</td>\n",
       "      <td>-76.0</td>\n",
       "      <td>740.0</td>\n",
       "    </tr>\n",
       "    <tr>\n",
       "      <th>2</th>\n",
       "      <td>24</td>\n",
       "      <td>2012-08-18</td>\n",
       "      <td>12</td>\n",
       "      <td>156</td>\n",
       "      <td>6</td>\n",
       "      <td>-76.0</td>\n",
       "      <td>741.0</td>\n",
       "    </tr>\n",
       "    <tr>\n",
       "      <th>3</th>\n",
       "      <td>35</td>\n",
       "      <td>2012-08-19</td>\n",
       "      <td>13</td>\n",
       "      <td>157</td>\n",
       "      <td>6</td>\n",
       "      <td>-74.0</td>\n",
       "      <td>732.0</td>\n",
       "    </tr>\n",
       "    <tr>\n",
       "      <th>4</th>\n",
       "      <td>46</td>\n",
       "      <td>2012-08-20</td>\n",
       "      <td>14</td>\n",
       "      <td>157</td>\n",
       "      <td>6</td>\n",
       "      <td>-74.0</td>\n",
       "      <td>740.0</td>\n",
       "    </tr>\n",
       "  </tbody>\n",
       "</table>\n",
       "</div>"
      ],
      "text/plain": [
       "   id terrestrial_date  sol   ls  month  min_temp  pressure\n",
       "0   2       2012-08-16   10  155      6     -75.0     739.0\n",
       "1  13       2012-08-17   11  156      6     -76.0     740.0\n",
       "2  24       2012-08-18   12  156      6     -76.0     741.0\n",
       "3  35       2012-08-19   13  157      6     -74.0     732.0\n",
       "4  46       2012-08-20   14  157      6     -74.0     740.0"
      ]
     },
     "execution_count": 5,
     "metadata": {},
     "output_type": "execute_result"
    }
   ],
   "source": [
    "df = tables[0]\n",
    "df.head()"
   ]
  },
  {
   "cell_type": "code",
   "execution_count": 6,
   "id": "a27c4f9f",
   "metadata": {},
   "outputs": [
    {
     "data": {
      "text/plain": [
       "id                    int64\n",
       "terrestrial_date     object\n",
       "sol                   int64\n",
       "ls                    int64\n",
       "month                 int64\n",
       "min_temp            float64\n",
       "pressure            float64\n",
       "dtype: object"
      ]
     },
     "execution_count": 6,
     "metadata": {},
     "output_type": "execute_result"
    }
   ],
   "source": [
    "df.dtypes"
   ]
  },
  {
   "cell_type": "code",
   "execution_count": 7,
   "id": "b8e1db21",
   "metadata": {},
   "outputs": [
    {
     "data": {
      "text/plain": [
       "12"
      ]
     },
     "execution_count": 7,
     "metadata": {},
     "output_type": "execute_result"
    }
   ],
   "source": [
    "#How many months exist on Mars?\n",
    "len(df['month'].unique())"
   ]
  },
  {
   "cell_type": "code",
   "execution_count": 8,
   "id": "6ecde5ea",
   "metadata": {},
   "outputs": [
    {
     "data": {
      "text/plain": [
       "1867"
      ]
     },
     "execution_count": 8,
     "metadata": {},
     "output_type": "execute_result"
    }
   ],
   "source": [
    "# How many Martian (and not Earth) days worth of data exist in the scraped dataset?\n",
    "len(df['terrestrial_date'].unique())"
   ]
  },
  {
   "cell_type": "code",
   "execution_count": 18,
   "id": "688021da",
   "metadata": {},
   "outputs": [
    {
     "data": {
      "text/html": [
       "<div>\n",
       "<style scoped>\n",
       "    .dataframe tbody tr th:only-of-type {\n",
       "        vertical-align: middle;\n",
       "    }\n",
       "\n",
       "    .dataframe tbody tr th {\n",
       "        vertical-align: top;\n",
       "    }\n",
       "\n",
       "    .dataframe thead th {\n",
       "        text-align: right;\n",
       "    }\n",
       "</style>\n",
       "<table border=\"1\" class=\"dataframe\">\n",
       "  <thead>\n",
       "    <tr style=\"text-align: right;\">\n",
       "      <th></th>\n",
       "      <th>id</th>\n",
       "      <th>sol</th>\n",
       "      <th>ls</th>\n",
       "      <th>min_temp</th>\n",
       "      <th>pressure</th>\n",
       "    </tr>\n",
       "    <tr>\n",
       "      <th>month</th>\n",
       "      <th></th>\n",
       "      <th></th>\n",
       "      <th></th>\n",
       "      <th></th>\n",
       "      <th></th>\n",
       "    </tr>\n",
       "  </thead>\n",
       "  <tbody>\n",
       "    <tr>\n",
       "      <th>1</th>\n",
       "      <td>1013.873563</td>\n",
       "      <td>1077.574713</td>\n",
       "      <td>15.281609</td>\n",
       "      <td>-77.160920</td>\n",
       "      <td>862.488506</td>\n",
       "    </tr>\n",
       "    <tr>\n",
       "      <th>2</th>\n",
       "      <td>1109.882022</td>\n",
       "      <td>1175.853933</td>\n",
       "      <td>44.258427</td>\n",
       "      <td>-79.932584</td>\n",
       "      <td>889.455056</td>\n",
       "    </tr>\n",
       "    <tr>\n",
       "      <th>3</th>\n",
       "      <td>1132.697917</td>\n",
       "      <td>1204.406250</td>\n",
       "      <td>75.010417</td>\n",
       "      <td>-83.307292</td>\n",
       "      <td>877.322917</td>\n",
       "    </tr>\n",
       "    <tr>\n",
       "      <th>4</th>\n",
       "      <td>1175.164948</td>\n",
       "      <td>1244.500000</td>\n",
       "      <td>104.365979</td>\n",
       "      <td>-82.747423</td>\n",
       "      <td>806.329897</td>\n",
       "    </tr>\n",
       "    <tr>\n",
       "      <th>5</th>\n",
       "      <td>1115.033557</td>\n",
       "      <td>1182.691275</td>\n",
       "      <td>132.885906</td>\n",
       "      <td>-79.308725</td>\n",
       "      <td>748.557047</td>\n",
       "    </tr>\n",
       "    <tr>\n",
       "      <th>6</th>\n",
       "      <td>735.306122</td>\n",
       "      <td>750.829932</td>\n",
       "      <td>164.897959</td>\n",
       "      <td>-75.299320</td>\n",
       "      <td>745.054422</td>\n",
       "    </tr>\n",
       "    <tr>\n",
       "      <th>7</th>\n",
       "      <td>714.549296</td>\n",
       "      <td>715.105634</td>\n",
       "      <td>194.894366</td>\n",
       "      <td>-72.281690</td>\n",
       "      <td>795.105634</td>\n",
       "    </tr>\n",
       "    <tr>\n",
       "      <th>8</th>\n",
       "      <td>718.078014</td>\n",
       "      <td>795.333333</td>\n",
       "      <td>224.347518</td>\n",
       "      <td>-68.382979</td>\n",
       "      <td>873.829787</td>\n",
       "    </tr>\n",
       "    <tr>\n",
       "      <th>9</th>\n",
       "      <td>785.843284</td>\n",
       "      <td>861.186567</td>\n",
       "      <td>254.052239</td>\n",
       "      <td>-69.171642</td>\n",
       "      <td>913.305970</td>\n",
       "    </tr>\n",
       "    <tr>\n",
       "      <th>10</th>\n",
       "      <td>955.723214</td>\n",
       "      <td>1034.669643</td>\n",
       "      <td>286.330357</td>\n",
       "      <td>-71.982143</td>\n",
       "      <td>887.312500</td>\n",
       "    </tr>\n",
       "    <tr>\n",
       "      <th>11</th>\n",
       "      <td>874.246377</td>\n",
       "      <td>947.224638</td>\n",
       "      <td>314.536232</td>\n",
       "      <td>-71.985507</td>\n",
       "      <td>857.014493</td>\n",
       "    </tr>\n",
       "    <tr>\n",
       "      <th>12</th>\n",
       "      <td>931.602410</td>\n",
       "      <td>990.951807</td>\n",
       "      <td>344.692771</td>\n",
       "      <td>-74.451807</td>\n",
       "      <td>842.156627</td>\n",
       "    </tr>\n",
       "  </tbody>\n",
       "</table>\n",
       "</div>"
      ],
      "text/plain": [
       "                id          sol          ls   min_temp    pressure\n",
       "month                                                             \n",
       "1      1013.873563  1077.574713   15.281609 -77.160920  862.488506\n",
       "2      1109.882022  1175.853933   44.258427 -79.932584  889.455056\n",
       "3      1132.697917  1204.406250   75.010417 -83.307292  877.322917\n",
       "4      1175.164948  1244.500000  104.365979 -82.747423  806.329897\n",
       "5      1115.033557  1182.691275  132.885906 -79.308725  748.557047\n",
       "6       735.306122   750.829932  164.897959 -75.299320  745.054422\n",
       "7       714.549296   715.105634  194.894366 -72.281690  795.105634\n",
       "8       718.078014   795.333333  224.347518 -68.382979  873.829787\n",
       "9       785.843284   861.186567  254.052239 -69.171642  913.305970\n",
       "10      955.723214  1034.669643  286.330357 -71.982143  887.312500\n",
       "11      874.246377   947.224638  314.536232 -71.985507  857.014493\n",
       "12      931.602410   990.951807  344.692771 -74.451807  842.156627"
      ]
     },
     "execution_count": 18,
     "metadata": {},
     "output_type": "execute_result"
    }
   ],
   "source": [
    "#What are the coldest and the warmest months on Mars (at the location of Curiosity)? Get the answer by averaging the minimum daily temperature of all the months. Plot the results as a bar chart.\n",
    "months_df = df.groupby('month').mean()\n",
    "months_df\n",
    "\n"
   ]
  },
  {
   "cell_type": "code",
   "execution_count": 22,
   "id": "f26d6258",
   "metadata": {},
   "outputs": [
    {
     "data": {
      "image/png": "[encoded data removed]",
      "text/plain": [
       "<Figure size 432x288 with 1 Axes>"
      ]
     },
     "metadata": {
      "needs_background": "light"
     },
     "output_type": "display_data"
    }
   ],
   "source": [
    "months = np.arange(1, 13, 1)\n",
    "\n",
    "x = months\n",
    "y = months_df['min_temp']\n",
    "\n",
    "plt.bar(x,y)\n",
    "plt.title(\"Months vs Min Temp\")\n",
    "plt.xticks(months)\n",
    "plt.xlabel(\"Months\")\n",
    "plt.ylabel(\"Avg Min Temp\")\n",
    "plt.show()\n",
    "\n"
   ]
  },
  {
   "cell_type": "code",
   "execution_count": 21,
   "id": "ad7f1124",
   "metadata": {},
   "outputs": [
    {
     "data": {
      "image/png": "[encoded data removed]",
      "text/plain": [
       "<Figure size 432x288 with 1 Axes>"
      ]
     },
     "metadata": {
      "needs_background": "light"
     },
     "output_type": "display_data"
    }
   ],
   "source": [
    "#Which months have the lowest and the highest atmospheric pressure on Mars? Get the answer by averaging the daily atmospheric pressure of all the months. Plot the results as a bar chart.\n",
    "months = np.arange(1, 13, 1)\n",
    "\n",
    "x = months\n",
    "y = months_df['pressure']\n",
    "\n",
    "plt.bar(x,y)\n",
    "plt.title(\"Months vs Pressure\")\n",
    "plt.xticks(months)\n",
    "plt.xlabel(\"Months\")\n",
    "plt.ylabel(\"Avg Pressure\")\n",
    "plt.show()"
   ]
  },
  {
   "cell_type": "code",
   "execution_count": null,
   "id": "401d0984",
   "metadata": {},
   "outputs": [],
   "source": []
  },
  {
   "cell_type": "code",
   "execution_count": null,
   "id": "9ff511a2",
   "metadata": {},
   "outputs": [],
   "source": []
  },
  {
   "cell_type": "code",
   "execution_count": null,
   "id": "8213dec7",
   "metadata": {},
   "outputs": [],
   "source": []
  },
  {
   "cell_type": "code",
   "execution_count": null,
   "id": "6d585af7",
   "metadata": {},
   "outputs": [],
   "source": []
  }
 ],
 "metadata": {
  "kernelspec": {
   "display_name": "Python 3 (ipykernel)",
   "language": "python",
   "name": "python3"
  },
  "language_info": {
   "codemirror_mode": {
    "name": "ipython",
    "version": 3
   },
   "file_extension": ".py",
   "mimetype": "text/x-python",
   "name": "python",
   "nbconvert_exporter": "python",
   "pygments_lexer": "ipython3",
   "version": "3.9.12"
  }
 },
 "nbformat": 4,
 "nbformat_minor": 5
}
